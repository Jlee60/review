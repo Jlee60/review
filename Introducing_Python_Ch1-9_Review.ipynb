{
 "cells": [
  {
   "cell_type": "markdown",
   "id": "65046af8",
   "metadata": {},
   "source": [
    "## Welcome to the Comprehensive Review for INFO-233 Midterm.\n",
    "This review should not be used as a substitute for reading the chapters. The reading will provide the detail necessary to understand the chapters content.\n",
    "This review is delivered as a Jupyter notebook. Jupyter notebooks allow us to write text and code examples in separate \"boxes\". The code you will see in this review can be executed right in this notebook.\n",
    "\n",
    "The notebook is normally tied to a Jupyter server. You have a Jupyter server right on your computer if you loaded the Anaconda distribution of Python. However instead of using your local servers, we are delivering this notebook via a container. Containers are lightweight, portable units that package software and all its dependencies, ensuring it runs consistently across different environments. Popular container platforms like Docker allow developers to bundle code, libraries, and system tools together, making deployment and scaling easier and more reliable.\n",
    "\n",
    "Binder.org is a free online service that lets you create and share interactive, reproducible computing environments from code repositories (like GitHub). With Binder, users can launch Jupyter notebooks and other tools in a browser, without installing anything locally. It uses containers to build and run these environments, making collaboration and sharing seamless. The container technology we are using is delivered via binder.org.  Our review is a Jupyter notebook within a container which also contains the operating system and version of Python to run the codeboxes. "
   ]
  },
  {
   "cell_type": "markdown",
   "id": "f4b18221",
   "metadata": {},
   "source": [
    "# Introduction to Jupyter Notebooks\n",
    "\n",
    "Jupyter notebooks are interactive documents that combine code, text, and visualizations in a single file. They are widely used for learning, teaching, data analysis, and prototyping.\n",
    "\n",
    "**Benefits of Using Jupyter Notebooks:**\n",
    "- Run code and see results instantly, making experimentation easy.\n",
    "- Mix explanations, code, and output for clear documentation.\n",
    "- Visualize data directly within the notebook.\n",
    "- Share work easily with others.\n",
    "\n",
    "**Notebook Controls and Code Boxes:**\n",
    "- Each code box (cell) can be run independently by clicking the \"Run\" button or pressing `Shift+Enter`.\n",
    "- You can edit code cells and re-run them as many times as you like.\n",
    "- Markdown cells (like this one) are for formatted text, explanations, and instructions.\n",
    "- Use the toolbar to add, delete, or move cells.\n",
    "- Outputs appear directly below the code cell after execution.\n",
    "\n",
    "Explore, experiment, and enjoy learning Python interactively!"
   ]
  },
  {
   "cell_type": "markdown",
   "id": "a2f4727d",
   "metadata": {},
   "source": [
    "# Introducing Python (2nd Ed.) — Chapters 1–9 Review Notebook\n",
    "\n",
    "_Detailed summaries with simple, focused code examples for each key concept._"
   ]
  },
  {
   "cell_type": "markdown",
   "id": "e7185eca",
   "metadata": {},
   "source": [
    "## Chapter 1: A Taste of Py\n",
    "\n",
    "### Summary\n",
    "Python is introduced as a readable, expressive language. The chapter parallels programs with recipes and patterns: \n",
    "they use a limited vocabulary, rules (syntax), and step-by-step instructions. It demonstrates tiny but real programs, \n",
    "shows how to run Python (interpreter or file), and previews core data structures (lists, dictionaries) and basic I/O.\n",
    "\n",
    "### Key Concepts (with explanations)\n",
    "- **Running Python** — Use the interactive interpreter for quick experiments and .py files for scripts.\n",
    "- **print() and basic I/O** — print() sends output to the console; input() reads text from the user.\n",
    "- **Lists (sequence)** — Ordered collections indexed from 0; great for grouping related values.\n",
    "- **Dictionaries (mapping)** — Key–value storage for fast lookup by meaningful keys (e.g., names).\n",
    "- **Indentation and blocks** — Python uses indentation (spaces) to define code blocks instead of braces.\n",
    "\n",
    "### Common Mistakes (Beginners)\n",
    "- Mixing tabs and spaces for indentation.\n",
    "- Forgetting that list indices start at 0, not 1.\n",
    "- Treating dictionaries like sequences (e.g., expecting a fixed order without care).\n",
    "\n",
    "### Study Questions\n",
    "1. How is a program like a recipe? List two similarities.\n",
    "2. What are two ways to run Python code? When would you prefer each?\n",
    "3. Explain when you’d choose a dictionary instead of a list."
   ]
  },
  {
   "cell_type": "code",
   "execution_count": null,
   "id": "1b67836d",
   "metadata": {},
   "outputs": [],
   "source": [
    "# Chapter 1: A Taste of Py — Running Python\n",
    "\n",
    "# Nothing to run here specifically—shown as comments:\n",
    "# - Use the REPL (Read–Eval–Print Loop) by running `python` in a terminal.\n",
    "# - Save code in a file like `hello.py` and run `python hello.py`.\n",
    "print(\"Hello from a Python file example!\")"
   ]
  },
  {
   "cell_type": "code",
   "execution_count": null,
   "id": "22d0dcd1",
   "metadata": {},
   "outputs": [],
   "source": [
    "# Chapter 1: A Taste of Py — print() and basic I/O\n",
    "\n",
    "# Example: simple prompt and response\n",
    "user_name = \"Ada\"  # in notebooks, prefer fixed inputs to keep cells reproducible\n",
    "print(f\"Welcome, {user_name}!\")"
   ]
  },
  {
   "cell_type": "code",
   "execution_count": null,
   "id": "577d1946",
   "metadata": {},
   "outputs": [],
   "source": [
    "# Chapter 1: A Taste of Py — Lists (sequence)\n",
    "\n",
    "# Example: selecting items from a list (0-based indexing)\n",
    "favorite_spells = [\"Riddikulus!\", \"Wingardium Leviosa!\", \"Avada Kedavra!\", \"Expecto Patronum!\"]\n",
    "chosen_offset = 3  # the fourth item (offset 3)\n",
    "print(f\"Our chosen spell is: {favorite_spells[chosen_offset]}\")"
   ]
  },
  {
   "cell_type": "code",
   "execution_count": null,
   "id": "6c90e30b",
   "metadata": {},
   "outputs": [],
   "source": [
    "# Chapter 1: A Taste of Py — Dictionaries (mapping)\n",
    "\n",
    "# Example: storing phrases by speaker\n",
    "stooge_quotes = {\"Moe\": \"A wise guy, huh?\", \"Larry\": \"Ow!\", \"Curly\": \"Nyuk nyuk!\"}\n",
    "selected_stooge = \"Curly\"\n",
    "print(f'{selected_stooge} says: \"{stooge_quotes[selected_stooge]}\"')"
   ]
  },
  {
   "cell_type": "code",
   "execution_count": null,
   "id": "2f3cc3ef",
   "metadata": {},
   "outputs": [],
   "source": [
    "# Chapter 1: A Taste of Py — Indentation and blocks\n",
    "\n",
    "# Example: indentation controls block structure\n",
    "temperature_fahrenheit = 38\n",
    "if temperature_fahrenheit < 40:\n",
    "    print(\"It is chilly. Wear a jacket.\")\n",
    "else:\n",
    "    print(\"It is reasonably warm.\")"
   ]
  },
  {
   "cell_type": "markdown",
   "id": "20b22fb7",
   "metadata": {},
   "source": [
    "## Chapter 2: Data — Types, Values, Variables, and Names\n",
    "\n",
    "### Summary\n",
    "Data are objects in Python. Values have types (e.g., int, float, str) and may be mutable or immutable. \n",
    "Variables are names bound to objects (not storage locations), and multiple names can refer to the same object. \n",
    "This affects assignment, copying, and mutability semantics.\n",
    "\n",
    "### Key Concepts (with explanations)\n",
    "- **Everything is an object** — Values carry type and behavior (methods).\n",
    "- **Mutability vs. immutability** — Lists and dicts are mutable; ints, floats, and strings are immutable.\n",
    "- **Variable binding** — A variable name refers to an object; assignment rebinds the name.\n",
    "- **Multiple assignment** — You can bind multiple names in one statement or unpack sequences.\n",
    "- **Shallow vs. deep copy** — Copying containers needs care to avoid aliasing shared nested objects.\n",
    "\n",
    "### Common Mistakes (Beginners)\n",
    "- Expecting x = y to copy values for containers (it just binds a second name).\n",
    "- Modifying a list via one name and being surprised another name sees the change.\n",
    "- Confusing mutating a container (in-place) with rebinding the variable name.\n",
    "\n",
    "### Study Questions\n",
    "1. Give two examples of immutable types and two of mutable types.\n",
    "2. Why can changing a list via one variable affect another variable?\n",
    "3. What are shallow and deep copies? When is a deep copy needed?"
   ]
  },
  {
   "cell_type": "code",
   "execution_count": null,
   "id": "0806e396",
   "metadata": {},
   "outputs": [],
   "source": [
    "# Chapter 2: Data — Types, Values, Variables, and Names — Everything is an object\n",
    "\n",
    "# Objects have type and behavior:\n",
    "sample_text = \"Python\"\n",
    "print(type(sample_text))\n",
    "print(sample_text.upper())"
   ]
  },
  {
   "cell_type": "code",
   "execution_count": null,
   "id": "86cded09",
   "metadata": {},
   "outputs": [],
   "source": [
    "# Chapter 2: Data — Types, Values, Variables, and Names — Mutability vs. immutability\n",
    "\n",
    "immutable_text = \"ace\"\n",
    "# immutable_text[0] = \"A\"  # would raise TypeError\n",
    "mutable_numbers = [1, 2, 3]\n",
    "mutable_numbers[0] = 10  # OK: lists are mutable\n",
    "print(mutable_numbers)"
   ]
  },
  {
   "cell_type": "code",
   "execution_count": null,
   "id": "ff29e45d",
   "metadata": {},
   "outputs": [],
   "source": [
    "# Chapter 2: Data — Types, Values, Variables, and Names — Variable binding\n",
    "\n",
    "first_list = [1, 2]\n",
    "second_list = first_list  # both names refer to the same object\n",
    "second_list.append(3)\n",
    "print(\"first_list:\", first_list)   # shows the change\n",
    "print(\"second_list:\", second_list)"
   ]
  },
  {
   "cell_type": "code",
   "execution_count": null,
   "id": "6da0336a",
   "metadata": {},
   "outputs": [],
   "source": [
    "# Chapter 2: Data — Types, Values, Variables, and Names — Multiple assignment\n",
    "\n",
    "# Unpacking and swapping\n",
    "first_name, last_name = \"Grace\", \"Hopper\"\n",
    "first_name, last_name = last_name, first_name  # swap in one step\n",
    "print(first_name, last_name)"
   ]
  },
  {
   "cell_type": "code",
   "execution_count": null,
   "id": "4f527e75",
   "metadata": {},
   "outputs": [],
   "source": [
    "# Chapter 2: Data — Types, Values, Variables, and Names — Shallow vs. deep copy\n",
    "\n",
    "import copy\n",
    "nested = [[1, 2], [3, 4]]\n",
    "shallow_copy = list(nested)         # shallow copy\n",
    "deep_copy = copy.deepcopy(nested)   # deep copy\n",
    "nested[0][0] = 99\n",
    "print(\"nested:\", nested)\n",
    "print(\"shallow_copy:\", shallow_copy)  # inner list changed\n",
    "print(\"deep_copy:\", deep_copy)        # independent"
   ]
  },
  {
   "cell_type": "markdown",
   "id": "3a9d448a",
   "metadata": {},
   "source": [
    "## Chapter 3: Numbers\n",
    "\n",
    "### Summary\n",
    "Covers booleans, integers, and floats; arithmetic operations; precedence; bases; type conversions; \n",
    "and math helpers. Booleans behave like integers (True==1, False==0) in arithmetic. \n",
    "Python integers are arbitrary precision; floats follow IEEE-754 behavior.\n",
    "\n",
    "### Key Concepts (with explanations)\n",
    "- **Booleans and truthy/falsey** — True/False and truth evaluation in conditions.\n",
    "- **Integer math and precedence** — Standard +, -, *, /, //, %, ** with defined precedence.\n",
    "- **Numeric bases and literals** — Binary 0b, octal 0o, hex 0x literals and conversions.\n",
    "- **Type conversion** — int(), float(), str() to change representations.\n",
    "- **Math helpers** — abs, round, and math module functions.\n",
    "\n",
    "### Common Mistakes (Beginners)\n",
    "- Using == for float comparisons without tolerance (due to precision).\n",
    "- Confusing / (true division) with // (floor division).\n",
    "- Forgetting operator precedence, leading to unexpected results.\n",
    "\n",
    "### Study Questions\n",
    "1. What is the difference between / and //?\n",
    "2. When should you use math.isclose() instead of ==?\n",
    "3. Give an example of converting a hex string to an integer."
   ]
  },
  {
   "cell_type": "code",
   "execution_count": null,
   "id": "ef93a9fe",
   "metadata": {},
   "outputs": [],
   "source": [
    "# Chapter 3: Numbers — Booleans and truthy/falsey\n",
    "\n",
    "is_open = True\n",
    "items_count = 0\n",
    "print(bool(items_count))   # False because 0 is falsey\n",
    "print(is_open and (items_count == 0))"
   ]
  },
  {
   "cell_type": "code",
   "execution_count": null,
   "id": "50155c4c",
   "metadata": {},
   "outputs": [],
   "source": [
    "# Chapter 3: Numbers — Integer math and precedence\n",
    "\n",
    "calculated_value = 2 + 3 * 4   # multiplication before addition\n",
    "print(calculated_value)        # 14\n",
    "parenthesized_value = (2 + 3) * 4\n",
    "print(parenthesized_value)     # 20"
   ]
  },
  {
   "cell_type": "code",
   "execution_count": null,
   "id": "dc0d3c40",
   "metadata": {},
   "outputs": [],
   "source": [
    "# Chapter 3: Numbers — Numeric bases and literals\n",
    "\n",
    "value_hex = 0x1A   # 26\n",
    "value_bin = 0b1010 # 10\n",
    "print(value_hex, value_bin, int(\"FF\", 16))"
   ]
  },
  {
   "cell_type": "code",
   "execution_count": null,
   "id": "8f39cb56",
   "metadata": {},
   "outputs": [],
   "source": [
    "# Chapter 3: Numbers — Type conversion\n",
    "\n",
    "temperature_celsius = 20.5\n",
    "temperature_str = str(temperature_celsius)\n",
    "restored_temperature = float(temperature_str)\n",
    "print(temperature_str, restored_temperature)"
   ]
  },
  {
   "cell_type": "code",
   "execution_count": null,
   "id": "c30a1e5f",
   "metadata": {},
   "outputs": [],
   "source": [
    "# Chapter 3: Numbers — Math helpers\n",
    "\n",
    "import math\n",
    "distance = -3.6\n",
    "print(abs(distance), round(3.14159, 2), math.sqrt(49))"
   ]
  },
  {
   "cell_type": "markdown",
   "id": "018f7c68",
   "metadata": {},
   "source": [
    "## Chapter 4: Choose with if\n",
    "\n",
    "### Summary\n",
    "Introduces conditional execution with if, elif, else; boolean expressions; membership tests with in; \n",
    "truth rules; and readable multi-branch decisions. Also touches on line continuation and comments.\n",
    "\n",
    "### Key Concepts (with explanations)\n",
    "- **if / elif / else** — Select between alternative code paths based on conditions.\n",
    "- **Comparison and logical operators** — Use ==, !=, <, <=, >, >=, and and/or/not.\n",
    "- **Membership tests with in** — Check if a value appears in a sequence or keys of a dict.\n",
    "- **Truthy/falsey rules** — Nonzero numbers and nonempty containers are truthy; 0/empty are falsey.\n",
    "- **Comments and readability** — Use # for comments; keep conditions clear and explicit.\n",
    "\n",
    "### Common Mistakes (Beginners)\n",
    "- Using = instead of == in comparisons.\n",
    "- Chaining comparisons incorrectly; prefer min_val <= x <= max_val.\n",
    "- Relying on truthy/falsey in ways that hide intent (be explicit).\n",
    "\n",
    "### Study Questions\n",
    "1. Write an if chain to classify a score into A/B/C/D/F.\n",
    "2. When is in evaluated as True for a dictionary?\n",
    "3. What’s the difference between and and or in short-circuit behavior?"
   ]
  },
  {
   "cell_type": "code",
   "execution_count": null,
   "id": "c2734166",
   "metadata": {},
   "outputs": [],
   "source": [
    "# Chapter 4: Choose with if — if / elif / else\n",
    "\n",
    "exam_score = 86\n",
    "if exam_score >= 90:\n",
    "    grade = \"A\"\n",
    "elif exam_score >= 80:\n",
    "    grade = \"B\"\n",
    "elif exam_score >= 70:\n",
    "    grade = \"C\"\n",
    "elif exam_score >= 60:\n",
    "    grade = \"D\"\n",
    "else:\n",
    "    grade = \"F\"\n",
    "print(f\"Grade: {grade}\")"
   ]
  },
  {
   "cell_type": "code",
   "execution_count": null,
   "id": "51e23de4",
   "metadata": {},
   "outputs": [],
   "source": [
    "# Chapter 4: Choose with if — Comparison and logical operators\n",
    "\n",
    "age_years = 20\n",
    "has_consent = True\n",
    "can_participate = (age_years >= 18) or has_consent\n",
    "print(can_participate)"
   ]
  },
  {
   "cell_type": "code",
   "execution_count": null,
   "id": "4fba1b5c",
   "metadata": {},
   "outputs": [],
   "source": [
    "# Chapter 4: Choose with if — Membership tests with in\n",
    "\n",
    "authorized_users = {\"alice\", \"bob\", \"carol\"}\n",
    "candidate = \"bob\"\n",
    "print(candidate in authorized_users)  # True if present"
   ]
  },
  {
   "cell_type": "code",
   "execution_count": null,
   "id": "49adb34f",
   "metadata": {},
   "outputs": [],
   "source": [
    "# Chapter 4: Choose with if — Truthy/falsey rules\n",
    "\n",
    "items_in_cart = []\n",
    "if not items_in_cart:\n",
    "    print(\"Your cart is empty.\")  # empty list is falsey"
   ]
  },
  {
   "cell_type": "code",
   "execution_count": null,
   "id": "cf342a2d",
   "metadata": {},
   "outputs": [],
   "source": [
    "# Chapter 4: Choose with if — Comments and readability\n",
    "\n",
    "# Good comment: explain WHY, not WHAT\n",
    "maximum_attempts = 3  # prevent brute-force abuse\n",
    "current_attempts = 0\n",
    "if current_attempts < maximum_attempts:\n",
    "    print(\"You may try again.\")"
   ]
  },
  {
   "cell_type": "markdown",
   "id": "9874712e",
   "metadata": {},
   "source": [
    "## Chapter 5: Text Strings\n",
    "\n",
    "### Summary\n",
    "Focuses on creating and manipulating text with str: quoting, escaping, slicing, length, splitting and joining, \n",
    "search/replace, case conversion, alignment, and formatting (including f-strings).\n",
    "\n",
    "### Key Concepts (with explanations)\n",
    "- **Creating strings** — Use quotes or str() to make text values.\n",
    "- **Indexing and slicing** — Access characters and substrings with offsets and slices.\n",
    "- **Common methods** — split, join, replace, strip, lower/upper, find and the in operator.\n",
    "- **String formatting** — Prefer f-strings for clarity and performance.\n",
    "- **Immutability** — String operations create new strings; originals are unchanged.\n",
    "\n",
    "### Common Mistakes (Beginners)\n",
    "- Forgetting strings are immutable and expecting in-place changes.\n",
    "- Using + repeatedly in loops (consider join).\n",
    "- Confusing slice bounds (start inclusive, stop exclusive).\n",
    "\n",
    "### Study Questions\n",
    "1. Show two ways to format name='Dana', score=97 into a sentence.\n",
    "2. How do you remove leading and trailing whitespace?\n",
    "3. What does text[2:5] select? What about text[-3:]?"
   ]
  },
  {
   "cell_type": "code",
   "execution_count": null,
   "id": "d7526b18",
   "metadata": {},
   "outputs": [],
   "source": [
    "# Chapter 5: Text Strings — Creating strings\n",
    "\n",
    "title_text = \"Introducing Python\"\n",
    "edition_text = str(2)\n",
    "print(title_text + \" (Edition \" + edition_text + \")\")"
   ]
  },
  {
   "cell_type": "code",
   "execution_count": null,
   "id": "172a229e",
   "metadata": {},
   "outputs": [],
   "source": [
    "# Chapter 5: Text Strings — Indexing and slicing\n",
    "\n",
    "language_name = \"Pythonic\"\n",
    "print(language_name[0], language_name[-1])\n",
    "print(language_name[2:6])  # 'thon'"
   ]
  },
  {
   "cell_type": "code",
   "execution_count": null,
   "id": "6530817c",
   "metadata": {},
   "outputs": [],
   "source": [
    "# Chapter 5: Text Strings — Common methods\n",
    "\n",
    "raw_csv = \"  apples, bananas ,  cherries  \"\n",
    "parts = [part.strip() for part in raw_csv.split(\",\")]\n",
    "rejoined = \"; \".join(parts)\n",
    "print(parts)\n",
    "print(rejoined)"
   ]
  },
  {
   "cell_type": "code",
   "execution_count": null,
   "id": "06d13c1e",
   "metadata": {},
   "outputs": [],
   "source": [
    "# Chapter 5: Text Strings — String formatting\n",
    "\n",
    "user = \"Dana\"\n",
    "score = 97\n",
    "print(f\"{user} scored {score} on the quiz.\")\n",
    "print(\"{user} scored {score} on the quiz.\".format(user=user, score=score))"
   ]
  },
  {
   "cell_type": "code",
   "execution_count": null,
   "id": "f3da8986",
   "metadata": {},
   "outputs": [],
   "source": [
    "# Chapter 5: Text Strings — Immutability\n",
    "\n",
    "original = \"  trimmed  \"\n",
    "cleaned = original.strip()\n",
    "print(\"original:\", repr(original))\n",
    "print(\"cleaned:\", repr(cleaned))"
   ]
  },
  {
   "cell_type": "markdown",
   "id": "1f25d1c0",
   "metadata": {},
   "source": [
    "## Chapter 6: Loop with while and for\n",
    "\n",
    "### Summary\n",
    "Explains repeating work with while and for, controlling loops with break/continue/else, \n",
    "and iterating over iterable objects including range. Introduces the iterator concept.\n",
    "\n",
    "### Key Concepts (with explanations)\n",
    "- **while loops** — Repeat while a condition stays true; update the condition to avoid infinite loops.\n",
    "- **for loops and iteration** — Iterate over items in a sequence or any iterable.\n",
    "- **break / continue / else** — break exits early, continue skips to next iteration, else runs if no break.\n",
    "- **range()** — Generate integer sequences for counting and indexing.\n",
    "- **Iterating dictionaries** — Loop through keys, values, or items.\n",
    "\n",
    "### Common Mistakes (Beginners)\n",
    "- Forgetting to update the while condition, causing infinite loops.\n",
    "- Mutating a list while iterating over it (copy or build a new list instead).\n",
    "- Using indices with for when direct iteration is clearer.\n",
    "\n",
    "### Study Questions\n",
    "1. Write a loop that sums numbers from 1 to 100.\n",
    "2. When does the else clause on a loop execute?\n",
    "3. How do you safely remove items from a list while iterating?"
   ]
  },
  {
   "cell_type": "code",
   "execution_count": null,
   "id": "9771a5bb",
   "metadata": {},
   "outputs": [],
   "source": [
    "# Chapter 6: Loop with while and for — while loops\n",
    "\n",
    "countdown_value = 5\n",
    "while countdown_value > 0:\n",
    "    print(countdown_value)\n",
    "    countdown_value -= 1  # be sure to update the condition!\n",
    "print(\"Go!\")"
   ]
  },
  {
   "cell_type": "code",
   "execution_count": null,
   "id": "079ec194",
   "metadata": {},
   "outputs": [],
   "source": [
    "# Chapter 6: Loop with while and for — for loops and iteration\n",
    "\n",
    "for fruit in [\"apple\", \"banana\", \"cherry\"]:\n",
    "    print(f\"I like {fruit}.\")"
   ]
  },
  {
   "cell_type": "code",
   "execution_count": null,
   "id": "8712af1c",
   "metadata": {},
   "outputs": [],
   "source": [
    "# Chapter 6: Loop with while and for — break / continue / else\n",
    "\n",
    "for candidate_number in range(2, 10):\n",
    "    if candidate_number % 2 == 0:\n",
    "        print(\"First even found:\", candidate_number)\n",
    "        break\n",
    "else:\n",
    "    print(\"No even numbers found.\")  # runs only if loop finishes without break"
   ]
  },
  {
   "cell_type": "code",
   "execution_count": null,
   "id": "4aa62c37",
   "metadata": {},
   "outputs": [],
   "source": [
    "# Chapter 6: Loop with while and for — range()\n",
    "\n",
    "for day_offset in range(1, 6):\n",
    "    print(f\"Day {day_offset}\")"
   ]
  },
  {
   "cell_type": "code",
   "execution_count": null,
   "id": "67dc9528",
   "metadata": {},
   "outputs": [],
   "source": [
    "# Chapter 6: Loop with while and for — Iterating dictionaries\n",
    "\n",
    "color_map = {\"r\": \"red\", \"g\": \"green\", \"b\": \"blue\"}\n",
    "for short_name, full_name in color_map.items():\n",
    "    print(short_name, \"->\", full_name)"
   ]
  },
  {
   "cell_type": "markdown",
   "id": "dbe2e98c",
   "metadata": {},
   "source": [
    "## Chapter 7: Tuples and Lists\n",
    "\n",
    "### Summary\n",
    "Introduces tuples (immutable sequences) and lists (mutable sequences), including creation, indexing, slicing, \n",
    "adding/removing elements, sorting, copying semantics, comprehensions, and zip for parallel iteration.\n",
    "\n",
    "### Key Concepts (with explanations)\n",
    "- **Tuples** — Immutable ordered collections; useful for fixed-size records and dictionary keys.\n",
    "- **Lists** — Mutable ordered collections with rich methods (append, insert, pop, etc.).\n",
    "- **Slicing and copying** — Slicing returns a new list; deep copies needed for nested structures.\n",
    "- **Sorting** — sorted() returns new list; list.sort() sorts in-place and returns None.\n",
    "- **List comprehensions** — Concise list creation from iterables with optional filtering.\n",
    "\n",
    "### Common Mistakes (Beginners)\n",
    "- Expecting tuple contents to be modifiable.\n",
    "- Confusing list.sort() returning None with sorted returning a new list.\n",
    "- Aliasing nested lists when copying without deepcopy.\n",
    "\n",
    "### Study Questions\n",
    "1. When would you prefer a tuple over a list?\n",
    "2. Demonstrate removing and returning the last item from a list.\n",
    "3. Write a comprehension that squares only even numbers from 0–9."
   ]
  },
  {
   "cell_type": "code",
   "execution_count": null,
   "id": "d2c5959d",
   "metadata": {},
   "outputs": [],
   "source": [
    "# Chapter 7: Tuples and Lists — Tuples\n",
    "\n",
    "coordinates = (40.7128, -74.0060)  # New York (lat, lon)\n",
    "city_locations = {(\"NYC\", \"USA\"): coordinates}\n",
    "print(city_locations[(\"NYC\", \"USA\")])"
   ]
  },
  {
   "cell_type": "code",
   "execution_count": null,
   "id": "18cf8e9e",
   "metadata": {},
   "outputs": [],
   "source": [
    "# Chapter 7: Tuples and Lists — Lists\n",
    "\n",
    "task_queue = [\"ingest\", \"clean\", \"train\"]\n",
    "task_queue.append(\"evaluate\")\n",
    "removed_task = task_queue.pop(0)  # remove first\n",
    "print(\"next:\", removed_task, \"| remaining:\", task_queue)"
   ]
  },
  {
   "cell_type": "code",
   "execution_count": null,
   "id": "1e7a7093",
   "metadata": {},
   "outputs": [],
   "source": [
    "# Chapter 7: Tuples and Lists — Slicing and copying\n",
    "\n",
    "original_list = [0, 1, 2, 3, 4, 5]\n",
    "slice_copy = original_list[1:4]  # [1, 2, 3]\n",
    "print(slice_copy)"
   ]
  },
  {
   "cell_type": "code",
   "execution_count": null,
   "id": "91df45c5",
   "metadata": {},
   "outputs": [],
   "source": [
    "# Chapter 7: Tuples and Lists — Sorting\n",
    "\n",
    "names = [\"zoe\", \"Ada\", \"grace\"]\n",
    "sorted_names = sorted(names, key=str.lower)  # new list\n",
    "print(sorted_names)\n",
    "names.sort()  # in-place, lexicographic\n",
    "print(names)"
   ]
  },
  {
   "cell_type": "code",
   "execution_count": null,
   "id": "b875f5e8",
   "metadata": {},
   "outputs": [],
   "source": [
    "# Chapter 7: Tuples and Lists — List comprehensions\n",
    "\n",
    "squared_evens = [number * number for number in range(10) if number % 2 == 0]\n",
    "print(squared_evens)"
   ]
  },
  {
   "cell_type": "markdown",
   "id": "e0e2d2de",
   "metadata": {},
   "source": [
    "## Chapter 8: Dictionaries and Sets\n",
    "\n",
    "### Summary\n",
    "Covers dictionaries (key–value mappings) and sets (unique unordered collections), including creation, \n",
    "common operations, comprehension forms, and set algebra (union, intersection, difference).\n",
    "\n",
    "### Key Concepts (with explanations)\n",
    "- **Dict basics** — Create, read/update with [key] or get, iterate keys/values/items.\n",
    "- **Merging and copying** — Use update or {**a, **b}; know shallow vs. deep copy.\n",
    "- **Dict comprehensions** — Build dicts succinctly from iterables.\n",
    "- **Set basics** — Unordered, unique elements; add/remove and membership tests are fast.\n",
    "- **Set operations** — Union |, intersection &, difference -, symmetric difference ^.\n",
    "\n",
    "### Common Mistakes (Beginners)\n",
    "- Assuming dicts keep insertion order in very old Python versions (3.7+ preserves by language spec).\n",
    "- Using mutable types (like lists) as dict keys or set elements (must be hashable).\n",
    "- Surprised by shallow copies when dict values are containers.\n",
    "\n",
    "### Study Questions\n",
    "1. How would you safely read a missing key and return a default?\n",
    "2. Demonstrate merging two small dictionaries.\n",
    "3. Show how to compute unique words and common words between two sentences."
   ]
  },
  {
   "cell_type": "code",
   "execution_count": null,
   "id": "122c7ea5",
   "metadata": {},
   "outputs": [],
   "source": [
    "# Chapter 8: Dictionaries and Sets — Dict basics\n",
    "\n",
    "word_counts = {}\n",
    "for word in [\"apple\", \"banana\", \"apple\"]:\n",
    "    word_counts[word] = word_counts.get(word, 0) + 1\n",
    "print(word_counts)"
   ]
  },
  {
   "cell_type": "code",
   "execution_count": null,
   "id": "b8d447ba",
   "metadata": {},
   "outputs": [],
   "source": [
    "# Chapter 8: Dictionaries and Sets — Merging and copying\n",
    "\n",
    "config_defaults = {\"timeout\": 30, \"retries\": 3}\n",
    "config_env = {\"timeout\": 10}\n",
    "merged_config = {**config_defaults, **config_env}\n",
    "print(merged_config)"
   ]
  },
  {
   "cell_type": "code",
   "execution_count": null,
   "id": "e48b332e",
   "metadata": {},
   "outputs": [],
   "source": [
    "# Chapter 8: Dictionaries and Sets — Dict comprehensions\n",
    "\n",
    "squares = {number: number * number for number in range(5)}\n",
    "print(squares)"
   ]
  },
  {
   "cell_type": "code",
   "execution_count": null,
   "id": "7814fab5",
   "metadata": {},
   "outputs": [],
   "source": [
    "# Chapter 8: Dictionaries and Sets — Set basics\n",
    "\n",
    "unique_tags = set([\"ml\", \"python\", \"python\", \"data\"])\n",
    "unique_tags.add(\"notebooks\")\n",
    "unique_tags.discard(\"ml\")\n",
    "print(unique_tags, \"has 'python'? ->\", \"python\" in unique_tags)"
   ]
  },
  {
   "cell_type": "code",
   "execution_count": null,
   "id": "fb8c53bd",
   "metadata": {},
   "outputs": [],
   "source": [
    "# Chapter 8: Dictionaries and Sets — Set operations\n",
    "\n",
    "tech_a = {\"python\", \"pandas\", \"sql\"}\n",
    "tech_b = {\"python\", \"spark\", \"sql\"}\n",
    "print(\"union:\", tech_a | tech_b)\n",
    "print(\"intersection:\", tech_a & tech_b)\n",
    "print(\"difference (A-B):\", tech_a - tech_b)"
   ]
  },
  {
   "cell_type": "markdown",
   "id": "d8b27c1d",
   "metadata": {},
   "source": [
    "## Chapter 9: Functions\n",
    "\n",
    "### Summary\n",
    "Shows how to define and call functions, parameter styles (positional, keyword, defaults, *args/**kwargs, keyword-only), \n",
    "docstrings, first-class functions, lambdas, generators, decorators (at a glance), scope/namespaces, and exceptions.\n",
    "\n",
    "### Key Concepts (with explanations)\n",
    "- **def and call** — Package reusable logic with def, call with parentheses.\n",
    "- **Parameters and defaults** — Use positional/keyword args and sensible default values.\n",
    "- ***args and **kwargs** — Gather variable numbers of positional/keyword arguments.\n",
    "- **Docstrings** — Explain what a function does for users and tooling (help).\n",
    "- **Exceptions (try/except)** — Handle expected error conditions gracefully.\n",
    "\n",
    "### Common Mistakes (Beginners)\n",
    "- Using mutable default arguments (e.g., def f(x, data=[])).\n",
    "- Catching broad exceptions without handling or logging properly.\n",
    "- Returning None implicitly when a value is expected.\n",
    "\n",
    "### Study Questions\n",
    "1. Write a function with a default parameter and call it three ways.\n",
    "2. When would you use *args and **kwargs?\n",
    "3. How do you document a function so that help(func) is useful?"
   ]
  },
  {
   "cell_type": "code",
   "execution_count": null,
   "id": "ee592e61",
   "metadata": {},
   "outputs": [],
   "source": [
    "# Chapter 9: Functions — def and call\n",
    "\n",
    "def compute_area_rectangle(width, height):\n",
    "    \"\"\"Return the area of a rectangle.\"\"\"\n",
    "    return width * height\n",
    "\n",
    "print(compute_area_rectangle(5, 3))"
   ]
  },
  {
   "cell_type": "code",
   "execution_count": null,
   "id": "0a0277bd",
   "metadata": {},
   "outputs": [],
   "source": [
    "# Chapter 9: Functions — Parameters and defaults\n",
    "\n",
    "def greet_user(name, greeting=\"Hello\"):\n",
    "    return f\"{greeting}, {name}!\"\n",
    "\n",
    "print(greet_user(\"Sam\"))\n",
    "print(greet_user(\"Sam\", greeting=\"Welcome\"))"
   ]
  },
  {
   "cell_type": "code",
   "execution_count": null,
   "id": "fcea06d5",
   "metadata": {},
   "outputs": [],
   "source": [
    "# Chapter 9: Functions — *args and **kwargs\n",
    "\n",
    "def summarize_scores(*scores, **options):\n",
    "    precision = options.get(\"precision\", 2)\n",
    "    average = sum(scores) / len(scores) if scores else 0.0\n",
    "    return round(average, precision)\n",
    "\n",
    "print(summarize_scores(88, 92, 79))\n",
    "print(summarize_scores(88, 92, 79, precision=1))"
   ]
  },
  {
   "cell_type": "code",
   "execution_count": null,
   "id": "fbb59cc0",
   "metadata": {},
   "outputs": [],
   "source": [
    "# Chapter 9: Functions — Docstrings\n",
    "\n",
    "def fahrenheit_to_celsius(temperature_fahrenheit):\n",
    "    \"\"\"Convert Fahrenheit to Celsius.\n",
    "\n",
    "Args:\n",
    "  temperature_fahrenheit (float): Temperature in °F.\n",
    "Returns:\n",
    "  float: Temperature in °C.\n",
    "\"\"\"\n",
    "    return (temperature_fahrenheit - 32) * 5/9\n",
    "\n",
    "print(fahrenheit_to_celsius(212))\n",
    "help(fahrenheit_to_celsius)"
   ]
  },
  {
   "cell_type": "code",
   "execution_count": null,
   "id": "771c3e77",
   "metadata": {},
   "outputs": [],
   "source": [
    "# Chapter 9: Functions — Exceptions (try/except)\n",
    "\n",
    "def safe_divide(numerator, denominator):\n",
    "    try:\n",
    "        return numerator / denominator\n",
    "    except ZeroDivisionError:\n",
    "        return float('inf')  # sentinel\n",
    "\n",
    "print(safe_divide(10, 2))\n",
    "print(safe_divide(10, 0))"
   ]
  }
 ],
 "metadata": {
  "language_info": {
   "name": "python"
  }
 },
 "nbformat": 4,
 "nbformat_minor": 5
}
